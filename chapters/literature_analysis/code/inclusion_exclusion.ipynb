{
 "cells": [
  {
   "cell_type": "code",
   "execution_count": 186,
   "metadata": {},
   "outputs": [],
   "source": [
    "from IPython.display import clear_output, display\n",
    "from ipywidgets import ToggleButton, Button, HBox, VBox, Output, interactive\n",
    "import bibtexparser\n",
    "from bibtexparser.bwriter import BibTexWriter\n",
    "from bibtexparser.bibdatabase import BibDatabase\n",
    "import webbrowser\n",
    "from urllib.parse import urlencode\n",
    "import os"
   ]
  },
  {
   "cell_type": "markdown",
   "metadata": {},
   "source": [
    "## Criteria\n",
    "In order to be relevant for the literature analysis a publication must fullfill atleast one of the inclusion criteria and none of the exclusion criteria."
   ]
  },
  {
   "cell_type": "code",
   "execution_count": 162,
   "metadata": {},
   "outputs": [],
   "source": [
    "inclusion_criteria = ['Reviews the current state of explainability research', 'Presents a specific method for enhancing explainability for models']\n",
    "exclusion_criteria = ['Is not scientific literature', 'Does not describe the used explainability method', 'The publication does not focus on explainability', 'The described method is neither general, nor focused on NLP']"
   ]
  },
  {
   "cell_type": "code",
   "execution_count": 195,
   "metadata": {},
   "outputs": [],
   "source": [
    "def printFirstProject(entries):\n",
    "    if (len(entries) > 0):\n",
    "        print(entries[0]['title'])\n",
    "        print()\n",
    "        print(entries[0]['abstract'] if 'abstract' in entries[0] else webbrowser.open('https://doi.org/' + entries[0]['doi']))\n",
    "    else:\n",
    "        print('Finished!')\n",
    "\n",
    "def dumpBibfile(name, entries):\n",
    "    db = BibDatabase()\n",
    "    db.entries = entries\n",
    "\n",
    "    writer = BibTexWriter()\n",
    "    with open(f'../data/{name}.bib', 'w') as bibfile:\n",
    "        bibfile.write(writer.write(db))\n",
    "\n",
    "def openIfExistsOtherwiseNew(name):\n",
    "    if( os.path.isfile(f'../data/{name}.bib')):\n",
    "        with open(f'../data/{name}.bib') as file:\n",
    "            return bibtexparser.bparser.BibTexParser(common_strings=True).parse_file(file).entries\n",
    "    else:\n",
    "        return []"
   ]
  },
  {
   "cell_type": "code",
   "execution_count": 196,
   "metadata": {},
   "outputs": [],
   "source": [
    "stage1_entries = openIfExistsOtherwiseNew('stage2')\n",
    "\n",
    "stage1_rejected_entries = openIfExistsOtherwiseNew('stage1_rejected')\n",
    "\n",
    "stage1_interesting_entries = openIfExistsOtherwiseNew('stage1_interesting')\n",
    "stage2_entries = []\n",
    "    \n",
    "\n",
    "    "
   ]
  },
  {
   "cell_type": "code",
   "execution_count": 211,
   "metadata": {},
   "outputs": [
    {
     "data": {
      "application/vnd.jupyter.widget-view+json": {
       "model_id": "b56b6e96bd634479ae605ab8e34234e9",
       "version_major": 2,
       "version_minor": 0
      },
      "text/plain": [
       "VBox(children=(Output(), HBox(children=(ToggleButton(value=False, button_style='success', description='Reviews…"
      ]
     },
     "metadata": {},
     "output_type": "display_data"
    }
   ],
   "source": [
    "layout = widgets.Layout(width='auto', height='40px')\n",
    "\n",
    "outputfield = Output()\n",
    "with outputfield:\n",
    "    printFirstProject(stage1_entries)\n",
    "inclusion = [ToggleButton(description=criteria, button_style='success', layout=layout) for criteria in inclusion_criteria]\n",
    "exclusion = [ToggleButton(description=criteria, button_style='danger', layout=layout) for criteria in exclusion_criteria]\n",
    "interesting = ToggleButton(description='Not relevant but interesting', button_style='info', layout=layout)\n",
    "submit = Button(description='Submit')\n",
    "ui = VBox([outputfield, HBox(inclusion), HBox(exclusion), interesting, submit])\n",
    "\n",
    "def submitted(b):\n",
    "    # accept or reject publication\n",
    "    entry = stage1_entries.pop(0)\n",
    "    entry['comments'] = ', '.join([crit.description for crit in inclusion if crit.value]) + ', ' + ', '.join([crit.description for crit in exclusion if crit.value])\n",
    "    if (any([crit.value for crit in inclusion]) and all([not crit.value for crit in exclusion])):\n",
    "        stage2_entries.append(entry)\n",
    "    elif (interesting.value):\n",
    "        stage1_interesting_entries.append(entry)\n",
    "    else:\n",
    "        stage1_rejected_entries.append(entry)\n",
    "    \n",
    "    # show next project and reset toggle states\n",
    "    with outputfield:\n",
    "        clear_output()\n",
    "        printFirstProject(stage1_entries)\n",
    "    for crit in inclusion:\n",
    "        crit.value=False\n",
    "    for crit in exclusion:\n",
    "        crit.value=False\n",
    "    interesting.value=False\n",
    "\n",
    "submit.on_click(submitted)\n",
    "\n",
    "display(ui)"
   ]
  },
  {
   "cell_type": "code",
   "execution_count": 222,
   "metadata": {},
   "outputs": [],
   "source": [
    "dumpBibfile('stage1_rejected', stage1_rejected_entries)\n",
    "dumpBibfile('stage2', stage2_entries)\n",
    "dumpBibfile('stage1_interesting', stage1_interesting_entries)"
   ]
  },
  {
   "cell_type": "code",
   "execution_count": 223,
   "metadata": {},
   "outputs": [
    {
     "data": {
      "text/plain": [
       "90"
      ]
     },
     "execution_count": 223,
     "metadata": {},
     "output_type": "execute_result"
    }
   ],
   "source": [
    "len(stage2_entries) "
   ]
  },
  {
   "cell_type": "code",
   "execution_count": null,
   "metadata": {},
   "outputs": [],
   "source": []
  }
 ],
 "metadata": {
  "kernelspec": {
   "display_name": "Python 3",
   "language": "python",
   "name": "python3"
  },
  "language_info": {
   "codemirror_mode": {
    "name": "ipython",
    "version": 3
   },
   "file_extension": ".py",
   "mimetype": "text/x-python",
   "name": "python",
   "nbconvert_exporter": "python",
   "pygments_lexer": "ipython3",
   "version": "3.6.7"
  }
 },
 "nbformat": 4,
 "nbformat_minor": 2
}

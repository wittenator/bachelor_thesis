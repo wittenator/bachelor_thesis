{
 "cells": [
  {
   "cell_type": "code",
   "execution_count": 111,
   "metadata": {},
   "outputs": [],
   "source": [
    "from IPython.display import clear_output, display\n",
    "from ipywidgets import ToggleButton, Button, HBox, VBox, Output, interactive\n",
    "import bibtexparser\n",
    "from bibtexparser.bwriter import BibTexWriter\n",
    "from bibtexparser.bibdatabase import BibDatabase\n",
    "import webbrowser\n",
    "from urllib.parse import urlencode"
   ]
  },
  {
   "cell_type": "markdown",
   "metadata": {},
   "source": [
    "## Criteria\n",
    "In order to be relevant for the literature analysis a publication must fullfill atleast one of the inclusion criteria and none of the exclusion criteria."
   ]
  },
  {
   "cell_type": "code",
   "execution_count": 140,
   "metadata": {},
   "outputs": [],
   "source": [
    "inclusion_criteria = ['Review', 'Method']\n",
    "exclusion_criteria = ['not scientific paper', 'no explainability', 'no focus', 'not general/NLP']"
   ]
  },
  {
   "cell_type": "code",
   "execution_count": 145,
   "metadata": {},
   "outputs": [],
   "source": [
    "with open('../data/stage1.bib') as stage1:\n",
    "    stage1_entries = bibtexparser.bparser.BibTexParser(common_strings=True).parse_file(stage1).entries\n",
    "\n",
    "stage1_rejected_entries = []\n",
    "    \n",
    "stage2_entries = []\n",
    "stage1_entries = []\n",
    "    \n",
    "def printFirstProject(entries):\n",
    "    if (len(entries) > 0):\n",
    "        print(entries[0]['title'])\n",
    "        print()\n",
    "        print(entries[0]['abstract'] if 'abstract' in entries[0] else webbrowser.open('https://doi.org/' + entries[0]['doi']))\n",
    "    else:\n",
    "        print('Finished!')\n",
    "\n",
    "def dumpBibfile(name, entries):\n",
    "    db = BibDatabase()\n",
    "    db.entries = entries\n",
    "\n",
    "    writer = BibTexWriter()\n",
    "    with open(f'../data/{name}.bib', 'w') as bibfile:\n",
    "        bibfile.write(writer.write(db))"
   ]
  },
  {
   "cell_type": "code",
   "execution_count": 146,
   "metadata": {},
   "outputs": [
    {
     "data": {
      "application/vnd.jupyter.widget-view+json": {
       "model_id": "e072f37927b54ccca7ce9ed3d283fc3d",
       "version_major": 2,
       "version_minor": 0
      },
      "text/plain": [
       "VBox(children=(Output(), HBox(children=(ToggleButton(value=False, button_style='success', description='Review'…"
      ]
     },
     "metadata": {},
     "output_type": "display_data"
    }
   ],
   "source": [
    "outputfield = Output()\n",
    "with outputfield:\n",
    "    printFirstProject(bib_database.entries)\n",
    "inclusion = [ToggleButton(description=criteria, button_style='success') for criteria in inclusion_criteria]\n",
    "exclusion = [ToggleButton(description=criteria, button_style='danger') for criteria in exclusion_criteria]\n",
    "interesting = ToggleButton(description='Not relevant but interesting', button_style='info')\n",
    "submit = Button(description='Submit')\n",
    "ui = VBox([outputfield, HBox(inclusion), HBox(exclusion), interesting, submit])\n",
    "\n",
    "def submitted(b):\n",
    "    # accept or reject publication\n",
    "    entry = bib_database.entries.pop(0)\n",
    "    entry['comments'] = ', '.join([crit.description for crit in inclusion if crit.value == True]) + ', ' + ', '.join([crit.description for crit in exclusion if crit.value == True])\n",
    "    if (any([crit.value for crit in inclusion]) and all([not crit.value for crit in exclusion])):\n",
    "        stage2_entries.append(entry)\n",
    "    else:\n",
    "        stage1_rejected_entries.append(entry)\n",
    "    \n",
    "    # show next project and reset toggle states\n",
    "    with outputfield:\n",
    "        clear_output()\n",
    "        printFirstProject(bib_database.entries)\n",
    "\n",
    "submit.on_click(submitted)\n",
    "\n",
    "display(ui)"
   ]
  },
  {
   "cell_type": "code",
   "execution_count": 143,
   "metadata": {},
   "outputs": [],
   "source": [
    "dumpBibfile('stage1_rejected', stage1_rejected_entries)\n",
    "dumpBibfile('stage2', stage2_entries)"
   ]
  },
  {
   "cell_type": "code",
   "execution_count": null,
   "metadata": {},
   "outputs": [],
   "source": []
  }
 ],
 "metadata": {
  "kernelspec": {
   "display_name": "Python 3",
   "language": "python",
   "name": "python3"
  },
  "language_info": {
   "codemirror_mode": {
    "name": "ipython",
    "version": 3
   },
   "file_extension": ".py",
   "mimetype": "text/x-python",
   "name": "python",
   "nbconvert_exporter": "python",
   "pygments_lexer": "ipython3",
   "version": "3.6.7"
  }
 },
 "nbformat": 4,
 "nbformat_minor": 2
}

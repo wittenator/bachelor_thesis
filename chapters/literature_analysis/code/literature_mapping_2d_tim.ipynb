{
 "cells": [
  {
   "cell_type": "code",
   "execution_count": 15,
   "metadata": {},
   "outputs": [],
   "source": [
    "import pandas as pd\n",
    "import numpy as np\n",
    "import plotly\n",
    "from math import floor, pow\n",
    "\n",
    "# define table colums for mapping\n",
    "name_x_axis = 'Applicability'\n",
    "name_y_axis = 'Gamut extended'\n",
    "\n",
    "#define name of excel sheet\n",
    "excel_name = '../data/mapping.xlsx'\n",
    "\n",
    "#define thresholds for renaming category to 'other' in percent\n",
    "threshold_x = 5\n",
    "threshold_y = 5\n",
    "\n",
    "\n"
   ]
  },
  {
   "cell_type": "code",
   "execution_count": 16,
   "metadata": {},
   "outputs": [],
   "source": [
    "df = pd.read_excel(excel_name)"
   ]
  },
  {
   "cell_type": "code",
   "execution_count": 17,
   "metadata": {
    "scrolled": false
   },
   "outputs": [],
   "source": [
    "totalcount = np.ma.count(df[name_x_axis])\n",
    "th_x = floor(totalcount / 100.0 * threshold_x)\n",
    "th_y = floor(totalcount / 100.0 * threshold_y)\n",
    "\n",
    "x = np.unique(df[name_x_axis].astype(str), return_counts = True)\n",
    "for val in np.nonzero(x[1]<th_x):\n",
    "    df[name_x_axis] =  df[name_x_axis]\n",
    "    \n",
    "y = np.unique(df[name_y_axis].astype(str), return_counts = True)\n",
    "for val in np.nonzero(y[1]<th_y):\n",
    "    df[name_x_axis] =  df[name_x_axis]"
   ]
  },
  {
   "cell_type": "code",
   "execution_count": 18,
   "metadata": {},
   "outputs": [],
   "source": [
    "pivot_list = []\n",
    "for x_val in x[0]:\n",
    "    for hits in np.nonzero(df[name_x_axis] == x_val):\n",
    "        for y_val in y[0]:\n",
    "            if int(np.ma.count(np.nonzero(df[name_y_axis][hits] == y_val))) > 0:\n",
    "                pivot_list.append([int(np.ma.count(np.nonzero(df[name_y_axis][hits] == y_val))), x_val, y_val])\n",
    "pivot_list = np.transpose(pivot_list).tolist()    "
   ]
  },
  {
   "cell_type": "code",
   "execution_count": 19,
   "metadata": {},
   "outputs": [
    {
     "data": {
      "text/html": [
       "<script>requirejs.config({paths: { 'plotly': ['https://cdn.plot.ly/plotly-latest.min']},});if(!window.Plotly) {{require(['plotly'],function(plotly) {window.Plotly=plotly;});}}</script>"
      ],
      "text/vnd.plotly.v1+html": [
       "<script>requirejs.config({paths: { 'plotly': ['https://cdn.plot.ly/plotly-latest.min']},});if(!window.Plotly) {{require(['plotly'],function(plotly) {window.Plotly=plotly;});}}</script>"
      ]
     },
     "metadata": {},
     "output_type": "display_data"
    },
    {
     "data": {
      "application/vnd.plotly.v1+json": {
       "data": [
        {
         "marker": {
          "size": [
           20,
           20,
           45.947934199881395,
           20,
           20,
           20,
           20,
           30.31433133020796,
           20,
           74.74385637693103,
           20,
           20,
           20,
           58.603121031670426,
           20,
           58.603121031670426,
           20,
           20,
           20,
           38.66364089863525,
           20,
           38.66364089863525,
           38.66364089863525
          ]
         },
         "mode": "markers+text",
         "text": [
          "1",
          "1",
          "4",
          "1",
          "1",
          "1",
          "1",
          "2",
          "1",
          "9",
          "1",
          "1",
          "1",
          "6",
          "1",
          "6",
          "1",
          "1",
          "1",
          "3",
          "1",
          "3",
          "3"
         ],
         "textposition": "middle center",
         "type": "scatter",
         "uid": "55d5a932-8baf-11e9-a463-005056c00001",
         "x": [
          "CNN",
          "CNN",
          "CNN",
          "Clustering",
          "Clustering",
          "Decision trees",
          "GCNN",
          "General",
          "General",
          "General",
          "General",
          "Linear Models",
          "NN",
          "NN",
          "NN",
          "NN",
          "NN",
          "NN",
          "RNN",
          "RNN",
          "RNN",
          "Specific",
          "Specific"
         ],
         "y": [
          "Counterfactuals",
          "Feature importance",
          "Local instance explanations",
          "Decomposition",
          "Local instance explanations",
          "Local instance explanations",
          "Local instance explanations",
          "Counterfactuals",
          "Feature importance",
          "Local instance explanations",
          "Nearest Neighbours",
          "Feature importance",
          "Counterfactuals",
          "Feature importance",
          "Instance explanation comparison",
          "Local instance explanations",
          "Nearest Neighbours",
          "Regions of Error",
          "Decomposition",
          "Local instance explanations",
          "Nearest Neighbours",
          "Decomposition",
          "Local instance explanations"
         ]
        }
       ],
       "layout": {
        "autosize": false,
        "height": 600,
        "margin": {
         "b": 150,
         "l": 150,
         "pad": 4,
         "r": 50,
         "t": 50
        },
        "width": 800
       }
      },
      "text/html": [
       "<div id=\"99f2a0c2-72ba-4538-9f3c-b03bfe956124\" style=\"height: 600px; width: 800px;\" class=\"plotly-graph-div\"></div><script type=\"text/javascript\">require([\"plotly\"], function(Plotly) { window.PLOTLYENV=window.PLOTLYENV || {};window.PLOTLYENV.BASE_URL=\"https://plot.ly\";Plotly.newPlot(\"99f2a0c2-72ba-4538-9f3c-b03bfe956124\", [{\"marker\": {\"size\": [20.0, 20.0, 45.947934199881395, 20.0, 20.0, 20.0, 20.0, 30.31433133020796, 20.0, 74.74385637693103, 20.0, 20.0, 20.0, 58.603121031670426, 20.0, 58.603121031670426, 20.0, 20.0, 20.0, 38.66364089863525, 20.0, 38.66364089863525, 38.66364089863525]}, \"mode\": \"markers+text\", \"text\": [\"1\", \"1\", \"4\", \"1\", \"1\", \"1\", \"1\", \"2\", \"1\", \"9\", \"1\", \"1\", \"1\", \"6\", \"1\", \"6\", \"1\", \"1\", \"1\", \"3\", \"1\", \"3\", \"3\"], \"textposition\": \"middle center\", \"x\": [\"CNN\", \"CNN\", \"CNN\", \"Clustering\", \"Clustering\", \"Decision trees\", \"GCNN\", \"General\", \"General\", \"General\", \"General\", \"Linear Models\", \"NN\", \"NN\", \"NN\", \"NN\", \"NN\", \"NN\", \"RNN\", \"RNN\", \"RNN\", \"Specific\", \"Specific\"], \"y\": [\"Counterfactuals\", \"Feature importance\", \"Local instance explanations\", \"Decomposition\", \"Local instance explanations\", \"Local instance explanations\", \"Local instance explanations\", \"Counterfactuals\", \"Feature importance\", \"Local instance explanations\", \"Nearest Neighbours\", \"Feature importance\", \"Counterfactuals\", \"Feature importance\", \"Instance explanation comparison\", \"Local instance explanations\", \"Nearest Neighbours\", \"Regions of Error\", \"Decomposition\", \"Local instance explanations\", \"Nearest Neighbours\", \"Decomposition\", \"Local instance explanations\"], \"type\": \"scatter\", \"uid\": \"55d5a933-8baf-11e9-a463-005056c00001\"}], {\"autosize\": false, \"height\": 600, \"margin\": {\"b\": 150, \"l\": 150, \"pad\": 4, \"r\": 50, \"t\": 50}, \"width\": 800}, {\"showLink\": true, \"linkText\": \"Export to plot.ly\"})});</script>"
      ],
      "text/vnd.plotly.v1+html": [
       "<div id=\"99f2a0c2-72ba-4538-9f3c-b03bfe956124\" style=\"height: 600px; width: 800px;\" class=\"plotly-graph-div\"></div><script type=\"text/javascript\">require([\"plotly\"], function(Plotly) { window.PLOTLYENV=window.PLOTLYENV || {};window.PLOTLYENV.BASE_URL=\"https://plot.ly\";Plotly.newPlot(\"99f2a0c2-72ba-4538-9f3c-b03bfe956124\", [{\"marker\": {\"size\": [20.0, 20.0, 45.947934199881395, 20.0, 20.0, 20.0, 20.0, 30.31433133020796, 20.0, 74.74385637693103, 20.0, 20.0, 20.0, 58.603121031670426, 20.0, 58.603121031670426, 20.0, 20.0, 20.0, 38.66364089863525, 20.0, 38.66364089863525, 38.66364089863525]}, \"mode\": \"markers+text\", \"text\": [\"1\", \"1\", \"4\", \"1\", \"1\", \"1\", \"1\", \"2\", \"1\", \"9\", \"1\", \"1\", \"1\", \"6\", \"1\", \"6\", \"1\", \"1\", \"1\", \"3\", \"1\", \"3\", \"3\"], \"textposition\": \"middle center\", \"x\": [\"CNN\", \"CNN\", \"CNN\", \"Clustering\", \"Clustering\", \"Decision trees\", \"GCNN\", \"General\", \"General\", \"General\", \"General\", \"Linear Models\", \"NN\", \"NN\", \"NN\", \"NN\", \"NN\", \"NN\", \"RNN\", \"RNN\", \"RNN\", \"Specific\", \"Specific\"], \"y\": [\"Counterfactuals\", \"Feature importance\", \"Local instance explanations\", \"Decomposition\", \"Local instance explanations\", \"Local instance explanations\", \"Local instance explanations\", \"Counterfactuals\", \"Feature importance\", \"Local instance explanations\", \"Nearest Neighbours\", \"Feature importance\", \"Counterfactuals\", \"Feature importance\", \"Instance explanation comparison\", \"Local instance explanations\", \"Nearest Neighbours\", \"Regions of Error\", \"Decomposition\", \"Local instance explanations\", \"Nearest Neighbours\", \"Decomposition\", \"Local instance explanations\"], \"type\": \"scatter\", \"uid\": \"55d5a933-8baf-11e9-a463-005056c00001\"}], {\"autosize\": false, \"height\": 600, \"margin\": {\"b\": 150, \"l\": 150, \"pad\": 4, \"r\": 50, \"t\": 50}, \"width\": 800}, {\"showLink\": true, \"linkText\": \"Export to plot.ly\"})});</script>"
      ]
     },
     "metadata": {},
     "output_type": "display_data"
    }
   ],
   "source": [
    "import plotly.plotly as py\n",
    "import plotly.graph_objs as go\n",
    "from plotly.offline import download_plotlyjs, init_notebook_mode, plot, iplot\n",
    "\n",
    "init_notebook_mode(connected=True)\n",
    "\n",
    "data = [\n",
    "    {\n",
    "        'x': pivot_list[1],\n",
    "        'y': pivot_list[2],\n",
    "        'mode':'markers+text',\n",
    "        'marker': {\n",
    "            'size': list(map((lambda x: pow(x,0.6)*20), map(int, pivot_list[0]))),\n",
    "        },\n",
    "        'text': pivot_list[0],\n",
    "        'textposition':'middle center'\n",
    "    }\n",
    "]\n",
    "\n",
    "layout = dict(width = 800, height = 600, autosize= False, margin = go.layout.Margin(\n",
    "l = 150,\n",
    "r = 50,\n",
    "b = 150,\n",
    "t = 50,\n",
    "pad = 4))\n",
    "\n",
    "fig = dict(data = data, layout = layout)\n",
    "\n",
    "iplot(fig, filename='bubblechart-text')"
   ]
  },
  {
   "cell_type": "code",
   "execution_count": null,
   "metadata": {},
   "outputs": [],
   "source": []
  },
  {
   "cell_type": "code",
   "execution_count": null,
   "metadata": {},
   "outputs": [],
   "source": []
  }
 ],
 "metadata": {
  "kernelspec": {
   "display_name": "my-virtualenv-name",
   "language": "python",
   "name": "my-virtualenv-name"
  },
  "language_info": {
   "codemirror_mode": {
    "name": "ipython",
    "version": 3
   },
   "file_extension": ".py",
   "mimetype": "text/x-python",
   "name": "python",
   "nbconvert_exporter": "python",
   "pygments_lexer": "ipython3",
   "version": "3.6.5"
  }
 },
 "nbformat": 4,
 "nbformat_minor": 2
}
